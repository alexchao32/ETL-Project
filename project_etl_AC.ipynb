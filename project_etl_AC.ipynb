{
 "cells": [
  {
   "cell_type": "code",
   "execution_count": 1,
   "metadata": {},
   "outputs": [],
   "source": [
    "import pandas as pd\n",
    "from sqlalchemy import create_engine, inspect\n"
   ]
  },
  {
   "cell_type": "markdown",
   "metadata": {},
   "source": [
    "### Connect to local database"
   ]
  },
  {
   "cell_type": "code",
   "execution_count": 2,
   "metadata": {},
   "outputs": [],
   "source": [
    "# Update input below\n",
    "\n",
    "#rds_connection_string = \"<insert user name>:<insert password>@localhost:5432/ETL_db\"\n",
    "rds_connection_string = \"postgres@localhost:51661/ETL_db\"\n",
    "engine = create_engine(f'postgresql://{rds_connection_string}')\n"
   ]
  },
  {
   "cell_type": "markdown",
   "metadata": {},
   "source": [
    "### Check for tables"
   ]
  },
  {
   "cell_type": "code",
   "execution_count": null,
   "metadata": {},
   "outputs": [],
   "source": [
    "inspector = inspect(engine)"
   ]
  },
  {
   "cell_type": "code",
   "execution_count": null,
   "metadata": {},
   "outputs": [],
   "source": [
    "for table_name in inspector.get_table_names():\n",
    "    print(table_name)"
   ]
  },
  {
   "cell_type": "code",
   "execution_count": null,
   "metadata": {},
   "outputs": [],
   "source": [
    "engine.execute('SELECT * FROM mass_shootings')"
   ]
  },
  {
   "cell_type": "code",
   "execution_count": 14,
   "metadata": {},
   "outputs": [
    {
     "data": {
      "text/html": [
       "<div>\n",
       "<style scoped>\n",
       "    .dataframe tbody tr th:only-of-type {\n",
       "        vertical-align: middle;\n",
       "    }\n",
       "\n",
       "    .dataframe tbody tr th {\n",
       "        vertical-align: top;\n",
       "    }\n",
       "\n",
       "    .dataframe thead th {\n",
       "        text-align: right;\n",
       "    }\n",
       "</style>\n",
       "<table border=\"1\" class=\"dataframe\">\n",
       "  <thead>\n",
       "    <tr style=\"text-align: right;\">\n",
       "      <th></th>\n",
       "      <th>location</th>\n",
       "      <th>fatalities</th>\n",
       "      <th>injured</th>\n",
       "      <th>date</th>\n",
       "      <th>case</th>\n",
       "      <th>summary</th>\n",
       "      <th>age_of_shooter</th>\n",
       "    </tr>\n",
       "  </thead>\n",
       "  <tbody>\n",
       "    <tr>\n",
       "      <th>0</th>\n",
       "      <td>Dayton, OH</td>\n",
       "      <td>9</td>\n",
       "      <td>27</td>\n",
       "      <td>2019-08-04</td>\n",
       "      <td>Dayton entertainment district shooting</td>\n",
       "      <td>Connor Betts, 24, died during the attack, foll...</td>\n",
       "      <td>24</td>\n",
       "    </tr>\n",
       "    <tr>\n",
       "      <th>1</th>\n",
       "      <td>El Paso, TX</td>\n",
       "      <td>22</td>\n",
       "      <td>26</td>\n",
       "      <td>2019-08-03</td>\n",
       "      <td>El Paso Walmart mass shooting</td>\n",
       "      <td>Patrick Crusius, 21, who was apprehended by po...</td>\n",
       "      <td>21</td>\n",
       "    </tr>\n",
       "    <tr>\n",
       "      <th>2</th>\n",
       "      <td>Gilroy, CA</td>\n",
       "      <td>3</td>\n",
       "      <td>12</td>\n",
       "      <td>2019-07-28</td>\n",
       "      <td>Gilroy garlic festival shooting</td>\n",
       "      <td>Santino William LeGan, 19, fired indiscriminat...</td>\n",
       "      <td>19</td>\n",
       "    </tr>\n",
       "    <tr>\n",
       "      <th>3</th>\n",
       "      <td>Virginia Beach, VA</td>\n",
       "      <td>12</td>\n",
       "      <td>4</td>\n",
       "      <td>2019-05-31</td>\n",
       "      <td>Virginia Beach municipal building shooting</td>\n",
       "      <td>DeWayne Craddock, 40, a municipal city worker ...</td>\n",
       "      <td>40</td>\n",
       "    </tr>\n",
       "    <tr>\n",
       "      <th>4</th>\n",
       "      <td>Aurora, IL</td>\n",
       "      <td>5</td>\n",
       "      <td>6</td>\n",
       "      <td>2019-02-15</td>\n",
       "      <td>Harry Pratt Co. warehouse shooting</td>\n",
       "      <td>Gary Martin, 45, went on a rampage inside the ...</td>\n",
       "      <td>45</td>\n",
       "    </tr>\n",
       "  </tbody>\n",
       "</table>\n",
       "</div>"
      ],
      "text/plain": [
       "             location  fatalities  injured       date  \\\n",
       "0          Dayton, OH           9       27 2019-08-04   \n",
       "1         El Paso, TX          22       26 2019-08-03   \n",
       "2          Gilroy, CA           3       12 2019-07-28   \n",
       "3  Virginia Beach, VA          12        4 2019-05-31   \n",
       "4          Aurora, IL           5        6 2019-02-15   \n",
       "\n",
       "                                         case  \\\n",
       "0      Dayton entertainment district shooting   \n",
       "1               El Paso Walmart mass shooting   \n",
       "2             Gilroy garlic festival shooting   \n",
       "3  Virginia Beach municipal building shooting   \n",
       "4          Harry Pratt Co. warehouse shooting   \n",
       "\n",
       "                                             summary  age_of_shooter  \n",
       "0  Connor Betts, 24, died during the attack, foll...              24  \n",
       "1  Patrick Crusius, 21, who was apprehended by po...              21  \n",
       "2  Santino William LeGan, 19, fired indiscriminat...              19  \n",
       "3  DeWayne Craddock, 40, a municipal city worker ...              40  \n",
       "4  Gary Martin, 45, went on a rampage inside the ...              45  "
      ]
     },
     "execution_count": 14,
     "metadata": {},
     "output_type": "execute_result"
    }
   ],
   "source": [
    "# Load in gun violence / mass shootings tables\n",
    "mass_shooting = pd.read_excel('Mother Jones - Mass Shootings Database, 1982 - 2019.xlsx')\n",
    "mass_shooting = mass_shooting[['location', 'fatalities', 'injured', 'date', 'case', 'summary', 'age_of_shooter']].copy()\n",
    "\n",
    "mass_shooting.head()"
   ]
  },
  {
   "cell_type": "code",
   "execution_count": null,
   "metadata": {},
   "outputs": [],
   "source": [
    "mass_shooting['city'] = mass_shooting['location'].str.split(', ').str[0]\n",
    "mass_shooting['state'] = mass_shooting['location'].str.split(', ').str[1]\n",
    "mass_shooting= mass_shooting.rename(columns={\"city\": \"City\", \"state\" : \"State\"})\n",
    "\n",
    "mass_shooting.head()"
   ]
  },
  {
   "cell_type": "code",
   "execution_count": 6,
   "metadata": {},
   "outputs": [
    {
     "data": {
      "text/html": [
       "<div>\n",
       "<style scoped>\n",
       "    .dataframe tbody tr th:only-of-type {\n",
       "        vertical-align: middle;\n",
       "    }\n",
       "\n",
       "    .dataframe tbody tr th {\n",
       "        vertical-align: top;\n",
       "    }\n",
       "\n",
       "    .dataframe thead th {\n",
       "        text-align: right;\n",
       "    }\n",
       "</style>\n",
       "<table border=\"1\" class=\"dataframe\">\n",
       "  <thead>\n",
       "    <tr style=\"text-align: right;\">\n",
       "      <th></th>\n",
       "      <th>State</th>\n",
       "      <th>City</th>\n",
       "      <th>fatalities</th>\n",
       "      <th>injured</th>\n",
       "      <th>date</th>\n",
       "      <th>participant_name</th>\n",
       "      <th>age_of_shooter</th>\n",
       "    </tr>\n",
       "  </thead>\n",
       "  <tbody>\n",
       "    <tr>\n",
       "      <th>0</th>\n",
       "      <td>Pennsylvania</td>\n",
       "      <td>Mckeesport</td>\n",
       "      <td>0</td>\n",
       "      <td>4</td>\n",
       "      <td>2013-01-01</td>\n",
       "      <td>0::Julian Sims</td>\n",
       "      <td>0::20</td>\n",
       "    </tr>\n",
       "    <tr>\n",
       "      <th>1</th>\n",
       "      <td>California</td>\n",
       "      <td>Hawthorne</td>\n",
       "      <td>1</td>\n",
       "      <td>3</td>\n",
       "      <td>2013-01-01</td>\n",
       "      <td>0::Bernard Gillis</td>\n",
       "      <td>0::20</td>\n",
       "    </tr>\n",
       "    <tr>\n",
       "      <th>2</th>\n",
       "      <td>Ohio</td>\n",
       "      <td>Lorain</td>\n",
       "      <td>1</td>\n",
       "      <td>3</td>\n",
       "      <td>2013-01-01</td>\n",
       "      <td>0::Damien Bell||1::Desmen Noble||2::Herman Sea...</td>\n",
       "      <td>0::25||1::31||2::33||3::34||4::33</td>\n",
       "    </tr>\n",
       "    <tr>\n",
       "      <th>3</th>\n",
       "      <td>Colorado</td>\n",
       "      <td>Aurora</td>\n",
       "      <td>4</td>\n",
       "      <td>0</td>\n",
       "      <td>2013-01-05</td>\n",
       "      <td>0::Stacie Philbrook||1::Christopher Ratliffe||...</td>\n",
       "      <td>0::29||1::33||2::56||3::33</td>\n",
       "    </tr>\n",
       "    <tr>\n",
       "      <th>4</th>\n",
       "      <td>North Carolina</td>\n",
       "      <td>Greensboro</td>\n",
       "      <td>2</td>\n",
       "      <td>2</td>\n",
       "      <td>2013-01-07</td>\n",
       "      <td>0::Danielle Imani Jameison||1::Maurice Eugene ...</td>\n",
       "      <td>0::18||1::46||2::14||3::47</td>\n",
       "    </tr>\n",
       "  </tbody>\n",
       "</table>\n",
       "</div>"
      ],
      "text/plain": [
       "            State        City  fatalities  injured        date  \\\n",
       "0    Pennsylvania  Mckeesport           0        4  2013-01-01   \n",
       "1      California   Hawthorne           1        3  2013-01-01   \n",
       "2            Ohio      Lorain           1        3  2013-01-01   \n",
       "3        Colorado      Aurora           4        0  2013-01-05   \n",
       "4  North Carolina  Greensboro           2        2  2013-01-07   \n",
       "\n",
       "                                    participant_name  \\\n",
       "0                                     0::Julian Sims   \n",
       "1                                  0::Bernard Gillis   \n",
       "2  0::Damien Bell||1::Desmen Noble||2::Herman Sea...   \n",
       "3  0::Stacie Philbrook||1::Christopher Ratliffe||...   \n",
       "4  0::Danielle Imani Jameison||1::Maurice Eugene ...   \n",
       "\n",
       "                      age_of_shooter  \n",
       "0                              0::20  \n",
       "1                              0::20  \n",
       "2  0::25||1::31||2::33||3::34||4::33  \n",
       "3         0::29||1::33||2::56||3::33  \n",
       "4         0::18||1::46||2::14||3::47  "
      ]
     },
     "execution_count": 6,
     "metadata": {},
     "output_type": "execute_result"
    }
   ],
   "source": [
    "gun_violence = \"gun_violence.csv\"\n",
    "gun_violence_df = pd.read_csv(gun_violence)\n",
    "gun_violence_df.rename(columns={'state':'State'}, inplace=True)\n",
    "gun_violence_df = gun_violence_df[['State', 'city_or_county', 'n_killed', 'n_injured', 'date', 'participant_name', 'participant_age']].copy()\n",
    "gun_violence_df= gun_violence_df.rename(columns={\"city_or_county\": \"City\", \"n_killed\" : \"fatalities\", \"n_injured\":\"injured\", \"participant_age\": \"age_of_shooter\"})\n",
    "gun_violence_df.head()"
   ]
  },
  {
   "cell_type": "code",
   "execution_count": 7,
   "metadata": {},
   "outputs": [
    {
     "data": {
      "text/html": [
       "<div>\n",
       "<style scoped>\n",
       "    .dataframe tbody tr th:only-of-type {\n",
       "        vertical-align: middle;\n",
       "    }\n",
       "\n",
       "    .dataframe tbody tr th {\n",
       "        vertical-align: top;\n",
       "    }\n",
       "\n",
       "    .dataframe thead th {\n",
       "        text-align: right;\n",
       "    }\n",
       "</style>\n",
       "<table border=\"1\" class=\"dataframe\">\n",
       "  <thead>\n",
       "    <tr style=\"text-align: right;\">\n",
       "      <th></th>\n",
       "      <th>State</th>\n",
       "      <th>City</th>\n",
       "      <th>Population</th>\n",
       "    </tr>\n",
       "  </thead>\n",
       "  <tbody>\n",
       "    <tr>\n",
       "      <th>0</th>\n",
       "      <td>Alabama</td>\n",
       "      <td>Abernant</td>\n",
       "      <td>7599</td>\n",
       "    </tr>\n",
       "    <tr>\n",
       "      <th>1</th>\n",
       "      <td>Alabama</td>\n",
       "      <td>Alabaster</td>\n",
       "      <td>31545</td>\n",
       "    </tr>\n",
       "    <tr>\n",
       "      <th>2</th>\n",
       "      <td>Alabama</td>\n",
       "      <td>Albertville</td>\n",
       "      <td>21458</td>\n",
       "    </tr>\n",
       "    <tr>\n",
       "      <th>3</th>\n",
       "      <td>Alabama</td>\n",
       "      <td>Alexander City</td>\n",
       "      <td>14849</td>\n",
       "    </tr>\n",
       "    <tr>\n",
       "      <th>4</th>\n",
       "      <td>Alabama</td>\n",
       "      <td>Andalusia</td>\n",
       "      <td>9081</td>\n",
       "    </tr>\n",
       "  </tbody>\n",
       "</table>\n",
       "</div>"
      ],
      "text/plain": [
       "     State            City  Population\n",
       "0  Alabama        Abernant        7599\n",
       "1  Alabama       Alabaster       31545\n",
       "2  Alabama     Albertville       21458\n",
       "3  Alabama  Alexander City       14849\n",
       "4  Alabama       Andalusia        9081"
      ]
     },
     "execution_count": 7,
     "metadata": {},
     "output_type": "execute_result"
    }
   ],
   "source": [
    "# load in cities table\n",
    "cities = pd.read_excel('Resources/US City Populations.xlsx')\n",
    "#gun_violence = pd.read_csv('Resources/gun-violence-data_01-2013_03-2018.csv')\n",
    "cities.head()"
   ]
  },
  {
   "cell_type": "code",
   "execution_count": 12,
   "metadata": {},
   "outputs": [
    {
     "name": "stderr",
     "output_type": "stream",
     "text": [
      "C:\\Users\\Alex\\Anaconda3\\envs\\PythonData\\lib\\site-packages\\ipykernel_launcher.py:3: SettingWithCopyWarning: \n",
      "A value is trying to be set on a copy of a slice from a DataFrame.\n",
      "Try using .loc[row_indexer,col_indexer] = value instead\n",
      "\n",
      "See the caveats in the documentation: http://pandas.pydata.org/pandas-docs/stable/indexing.html#indexing-view-versus-copy\n",
      "  This is separate from the ipykernel package so we can avoid doing imports until\n"
     ]
    }
   ],
   "source": [
    "# Process cities table to generate per capita information\n",
    "\n",
    "gun_v = gun_violence_df[['State', 'City']]\n",
    "\n",
    "\n",
    "gun_v['count'] = gun_v.groupby(['State', 'City'])['State'].transform('size')\n",
    "\n",
    "#gun_v.rename(columns={'city_or_county':'City'}, inplace=True) \n",
    "#gun_v.rename(columns={'state':'State'}, inplace=True)\n",
    "\n",
    "gun_v2 = pd.merge(gun_v, cities, on=['State', 'City'], how='left')\n",
    "\n",
    "gun_v2 = gun_v2.drop_duplicates()\n",
    "\n",
    "gun_v2['shootings_per_cap'] = gun_v2['count']/gun_v2['Population']\n",
    "\n",
    "us_state_abbrev = {\n",
    "   'Alabama': 'AL',\n",
    "   'Alaska': 'AK',\n",
    "   'Arizona': 'AZ',\n",
    "   'Arkansas': 'AR',\n",
    "   'California': 'CA',\n",
    "   'Colorado': 'CO',\n",
    "   'Connecticut': 'CT',\n",
    "   'Delaware': 'DE',\n",
    "   'District of Columbia': 'DC',\n",
    "   'Florida': 'FL',\n",
    "   'Georgia': 'GA',\n",
    "   'Hawaii': 'HI',\n",
    "   'Idaho': 'ID',\n",
    "   'Illinois': 'IL',\n",
    "   'Indiana': 'IN',\n",
    "   'Iowa': 'IA',\n",
    "   'Kansas': 'KS',\n",
    "   'Kentucky': 'KY',\n",
    "   'Louisiana': 'LA',\n",
    "   'Maine': 'ME',\n",
    "   'Maryland': 'MD',\n",
    "   'Massachusetts': 'MA',\n",
    "   'Michigan': 'MI',\n",
    "   'Minnesota': 'MN',\n",
    "   'Mississippi': 'MS',\n",
    "   'Missouri': 'MO',\n",
    "   'Montana': 'MT',\n",
    "   'Nebraska': 'NE',\n",
    "   'Nevada': 'NV',\n",
    "   'New Hampshire': 'NH',\n",
    "   'New Jersey': 'NJ',\n",
    "   'New Mexico': 'NM',\n",
    "   'New York': 'NY',\n",
    "   'North Carolina': 'NC',\n",
    "   'North Dakota': 'ND',\n",
    "   'Northern Mariana Islands':'MP',\n",
    "   'Ohio': 'OH',\n",
    "   'Oklahoma': 'OK',\n",
    "   'Oregon': 'OR',\n",
    "   'Palau': 'PW',\n",
    "   'Pennsylvania': 'PA',\n",
    "   'Puerto Rico': 'PR',\n",
    "   'Rhode Island': 'RI',\n",
    "   'South Carolina': 'SC',\n",
    "   'South Dakota': 'SD',\n",
    "   'Tennessee': 'TN',\n",
    "   'Texas': 'TX',\n",
    "   'Utah': 'UT',\n",
    "   'Vermont': 'VT',\n",
    "   'Virgin Islands': 'VI',\n",
    "   'Virginia': 'VA',\n",
    "   'Washington': 'WA',\n",
    "   'West Virginia': 'WV',\n",
    "   'Wisconsin': 'WI',\n",
    "   'Wyoming': 'WY',\n",
    "}\n",
    "states= pd.DataFrame([us_state_abbrev]).transpose().reset_index()\n",
    "#states.head()\n",
    "state_ab= states.rename(columns={\"index\": \"State\", 0 : \"abbrev\"})\n",
    "\n",
    "gun_v3 = pd.merge(gun_v2, state_ab, on='State', how='left')"
   ]
  },
  {
   "cell_type": "code",
   "execution_count": 13,
   "metadata": {},
   "outputs": [
    {
     "data": {
      "text/html": [
       "<div>\n",
       "<style scoped>\n",
       "    .dataframe tbody tr th:only-of-type {\n",
       "        vertical-align: middle;\n",
       "    }\n",
       "\n",
       "    .dataframe tbody tr th {\n",
       "        vertical-align: top;\n",
       "    }\n",
       "\n",
       "    .dataframe thead th {\n",
       "        text-align: right;\n",
       "    }\n",
       "</style>\n",
       "<table border=\"1\" class=\"dataframe\">\n",
       "  <thead>\n",
       "    <tr style=\"text-align: right;\">\n",
       "      <th></th>\n",
       "      <th>State</th>\n",
       "      <th>City</th>\n",
       "      <th>count</th>\n",
       "      <th>Population</th>\n",
       "      <th>shootings_per_cap</th>\n",
       "      <th>abbrev</th>\n",
       "    </tr>\n",
       "  </thead>\n",
       "  <tbody>\n",
       "    <tr>\n",
       "      <th>0</th>\n",
       "      <td>Pennsylvania</td>\n",
       "      <td>Mckeesport</td>\n",
       "      <td>84</td>\n",
       "      <td>NaN</td>\n",
       "      <td>NaN</td>\n",
       "      <td>PA</td>\n",
       "    </tr>\n",
       "    <tr>\n",
       "      <th>1</th>\n",
       "      <td>California</td>\n",
       "      <td>Hawthorne</td>\n",
       "      <td>21</td>\n",
       "      <td>87583.0</td>\n",
       "      <td>0.000240</td>\n",
       "      <td>CA</td>\n",
       "    </tr>\n",
       "    <tr>\n",
       "      <th>2</th>\n",
       "      <td>Ohio</td>\n",
       "      <td>Lorain</td>\n",
       "      <td>113</td>\n",
       "      <td>63776.0</td>\n",
       "      <td>0.001772</td>\n",
       "      <td>OH</td>\n",
       "    </tr>\n",
       "    <tr>\n",
       "      <th>3</th>\n",
       "      <td>Colorado</td>\n",
       "      <td>Aurora</td>\n",
       "      <td>166</td>\n",
       "      <td>353108.0</td>\n",
       "      <td>0.000470</td>\n",
       "      <td>CO</td>\n",
       "    </tr>\n",
       "    <tr>\n",
       "      <th>4</th>\n",
       "      <td>North Carolina</td>\n",
       "      <td>Greensboro</td>\n",
       "      <td>522</td>\n",
       "      <td>282586.0</td>\n",
       "      <td>0.001847</td>\n",
       "      <td>NC</td>\n",
       "    </tr>\n",
       "  </tbody>\n",
       "</table>\n",
       "</div>"
      ],
      "text/plain": [
       "            State        City  count  Population  shootings_per_cap abbrev\n",
       "0    Pennsylvania  Mckeesport     84         NaN                NaN     PA\n",
       "1      California   Hawthorne     21     87583.0           0.000240     CA\n",
       "2            Ohio      Lorain    113     63776.0           0.001772     OH\n",
       "3        Colorado      Aurora    166    353108.0           0.000470     CO\n",
       "4  North Carolina  Greensboro    522    282586.0           0.001847     NC"
      ]
     },
     "execution_count": 13,
     "metadata": {},
     "output_type": "execute_result"
    }
   ],
   "source": [
    "gun_v3.head()"
   ]
  },
  {
   "cell_type": "code",
   "execution_count": 7,
   "metadata": {},
   "outputs": [
    {
     "data": {
      "text/plain": [
       "['customer_location', 'customer_name']"
      ]
     },
     "execution_count": 7,
     "metadata": {},
     "output_type": "execute_result"
    }
   ],
   "source": [
    "engine.table_names()\n"
   ]
  },
  {
   "cell_type": "markdown",
   "metadata": {},
   "source": [
    "### Use pandas to load csv converted Gun Violence DataFrame into database"
   ]
  },
  {
   "cell_type": "code",
   "execution_count": 8,
   "metadata": {},
   "outputs": [],
   "source": [
    "gun_violence_df.to_sql(name='FROM ABOVE', con=engine, if_exists='append', index=False)\n"
   ]
  },
  {
   "cell_type": "markdown",
   "metadata": {},
   "source": [
    "### Use pandas to load csv converted Mass Shooting DataFrame into database"
   ]
  },
  {
   "cell_type": "code",
   "execution_count": 1,
   "metadata": {},
   "outputs": [
    {
     "ename": "NameError",
     "evalue": "name 'mass_shooting_df' is not defined",
     "output_type": "error",
     "traceback": [
      "\u001b[1;31m---------------------------------------------------------------------------\u001b[0m",
      "\u001b[1;31mNameError\u001b[0m                                 Traceback (most recent call last)",
      "\u001b[1;32m<ipython-input-1-2fc51b0d7cfc>\u001b[0m in \u001b[0;36m<module>\u001b[1;34m\u001b[0m\n\u001b[1;32m----> 1\u001b[1;33m \u001b[0mmass_shooting_df\u001b[0m\u001b[1;33m.\u001b[0m\u001b[0mto_sql\u001b[0m\u001b[1;33m(\u001b[0m\u001b[0mname\u001b[0m\u001b[1;33m=\u001b[0m\u001b[1;34m'ALSO FROM ABOVE'\u001b[0m\u001b[1;33m,\u001b[0m \u001b[0mcon\u001b[0m\u001b[1;33m=\u001b[0m\u001b[0mengine\u001b[0m\u001b[1;33m,\u001b[0m \u001b[0mif_exists\u001b[0m\u001b[1;33m=\u001b[0m\u001b[1;34m'append'\u001b[0m\u001b[1;33m,\u001b[0m \u001b[0mindex\u001b[0m\u001b[1;33m=\u001b[0m\u001b[1;32mFalse\u001b[0m\u001b[1;33m)\u001b[0m\u001b[1;33m\u001b[0m\u001b[1;33m\u001b[0m\u001b[0m\n\u001b[0m",
      "\u001b[1;31mNameError\u001b[0m: name 'mass_shooting_df' is not defined"
     ]
    }
   ],
   "source": [
    "mass_shooting_df.to_sql(name='ALSO FROM ABOVE', con=engine, if_exists='append', index=False)\n"
   ]
  },
  {
   "cell_type": "markdown",
   "metadata": {},
   "source": [
    "### Use pandas to load csv converted City Population DataFrame into database"
   ]
  },
  {
   "cell_type": "code",
   "execution_count": null,
   "metadata": {},
   "outputs": [],
   "source": [
    "city_population_df.to_sql(name='ALSO FROM ABOVE', con=engine, if_exists='append', index=False)\n"
   ]
  },
  {
   "cell_type": "markdown",
   "metadata": {},
   "source": [
    "### Confirm data has been added by querying the FROM ABOVE table\n",
    "* NOTE: can also check using pgAdmin"
   ]
  },
  {
   "cell_type": "code",
   "execution_count": 10,
   "metadata": {},
   "outputs": [
    {
     "data": {
      "text/html": [
       "<div>\n",
       "<style scoped>\n",
       "    .dataframe tbody tr th:only-of-type {\n",
       "        vertical-align: middle;\n",
       "    }\n",
       "\n",
       "    .dataframe tbody tr th {\n",
       "        vertical-align: top;\n",
       "    }\n",
       "\n",
       "    .dataframe thead th {\n",
       "        text-align: right;\n",
       "    }\n",
       "</style>\n",
       "<table border=\"1\" class=\"dataframe\">\n",
       "  <thead>\n",
       "    <tr style=\"text-align: right;\">\n",
       "      <th></th>\n",
       "      <th>id</th>\n",
       "      <th>first_name</th>\n",
       "      <th>last_name</th>\n",
       "    </tr>\n",
       "  </thead>\n",
       "  <tbody>\n",
       "    <tr>\n",
       "      <th>0</th>\n",
       "      <td>1</td>\n",
       "      <td>Benetta</td>\n",
       "      <td>Cancott</td>\n",
       "    </tr>\n",
       "    <tr>\n",
       "      <th>1</th>\n",
       "      <td>2</td>\n",
       "      <td>Lilyan</td>\n",
       "      <td>Cherry</td>\n",
       "    </tr>\n",
       "    <tr>\n",
       "      <th>2</th>\n",
       "      <td>3</td>\n",
       "      <td>Ezekiel</td>\n",
       "      <td>Benasik</td>\n",
       "    </tr>\n",
       "    <tr>\n",
       "      <th>3</th>\n",
       "      <td>4</td>\n",
       "      <td>Kennedy</td>\n",
       "      <td>Atlay</td>\n",
       "    </tr>\n",
       "    <tr>\n",
       "      <th>4</th>\n",
       "      <td>5</td>\n",
       "      <td>Sanford</td>\n",
       "      <td>Salmen</td>\n",
       "    </tr>\n",
       "  </tbody>\n",
       "</table>\n",
       "</div>"
      ],
      "text/plain": [
       "   id first_name last_name\n",
       "0   1    Benetta   Cancott\n",
       "1   2     Lilyan    Cherry\n",
       "2   3    Ezekiel   Benasik\n",
       "3   4    Kennedy     Atlay\n",
       "4   5    Sanford    Salmen"
      ]
     },
     "execution_count": 10,
     "metadata": {},
     "output_type": "execute_result"
    }
   ],
   "source": [
    "pd.read_sql_query('select * from FROM ABOVE', con=engine).head()\n"
   ]
  },
  {
   "cell_type": "markdown",
   "metadata": {},
   "source": [
    "### Confirm data has been added by querying the ALSO FROM ABOVE table"
   ]
  },
  {
   "cell_type": "code",
   "execution_count": 11,
   "metadata": {},
   "outputs": [
    {
     "data": {
      "text/html": [
       "<div>\n",
       "<style scoped>\n",
       "    .dataframe tbody tr th:only-of-type {\n",
       "        vertical-align: middle;\n",
       "    }\n",
       "\n",
       "    .dataframe tbody tr th {\n",
       "        vertical-align: top;\n",
       "    }\n",
       "\n",
       "    .dataframe thead th {\n",
       "        text-align: right;\n",
       "    }\n",
       "</style>\n",
       "<table border=\"1\" class=\"dataframe\">\n",
       "  <thead>\n",
       "    <tr style=\"text-align: right;\">\n",
       "      <th></th>\n",
       "      <th>id</th>\n",
       "      <th>address</th>\n",
       "      <th>us_state</th>\n",
       "    </tr>\n",
       "  </thead>\n",
       "  <tbody>\n",
       "    <tr>\n",
       "      <th>0</th>\n",
       "      <td>1</td>\n",
       "      <td>043 Mockingbird Place</td>\n",
       "      <td>Indiana</td>\n",
       "    </tr>\n",
       "    <tr>\n",
       "      <th>1</th>\n",
       "      <td>2</td>\n",
       "      <td>4 Prentice Point</td>\n",
       "      <td>Indiana</td>\n",
       "    </tr>\n",
       "    <tr>\n",
       "      <th>2</th>\n",
       "      <td>3</td>\n",
       "      <td>46 Derek Junction</td>\n",
       "      <td>Texas</td>\n",
       "    </tr>\n",
       "    <tr>\n",
       "      <th>3</th>\n",
       "      <td>4</td>\n",
       "      <td>11966 Old Shore Place</td>\n",
       "      <td>Missouri</td>\n",
       "    </tr>\n",
       "    <tr>\n",
       "      <th>4</th>\n",
       "      <td>5</td>\n",
       "      <td>5 Evergreen Circle</td>\n",
       "      <td>New York</td>\n",
       "    </tr>\n",
       "  </tbody>\n",
       "</table>\n",
       "</div>"
      ],
      "text/plain": [
       "   id                address  us_state\n",
       "0   1  043 Mockingbird Place   Indiana\n",
       "1   2       4 Prentice Point   Indiana\n",
       "2   3      46 Derek Junction     Texas\n",
       "3   4  11966 Old Shore Place  Missouri\n",
       "4   5     5 Evergreen Circle  New York"
      ]
     },
     "execution_count": 11,
     "metadata": {},
     "output_type": "execute_result"
    }
   ],
   "source": [
    "pd.read_sql_query('select * from ALSO FROM ABOVE', con=engine).head()\n"
   ]
  },
  {
   "cell_type": "markdown",
   "metadata": {},
   "source": [
    "### Confirm data has been added by querying the ALSO FROM ABOVE 2 table"
   ]
  },
  {
   "cell_type": "code",
   "execution_count": null,
   "metadata": {},
   "outputs": [],
   "source": [
    "pd.read_sql_query('select * from ALSO FROM ABOVE2', con=engine).head()\n"
   ]
  },
  {
   "cell_type": "code",
   "execution_count": null,
   "metadata": {},
   "outputs": [],
   "source": []
  }
 ],
 "metadata": {
  "kernelspec": {
   "display_name": "Python [conda env:PythonData] *",
   "language": "python",
   "name": "conda-env-PythonData-py"
  },
  "language_info": {
   "codemirror_mode": {
    "name": "ipython",
    "version": 3
   },
   "file_extension": ".py",
   "mimetype": "text/x-python",
   "name": "python",
   "nbconvert_exporter": "python",
   "pygments_lexer": "ipython3",
   "version": "3.6.8"
  },
  "nteract": {
   "version": "0.12.3"
  }
 },
 "nbformat": 4,
 "nbformat_minor": 2
}
